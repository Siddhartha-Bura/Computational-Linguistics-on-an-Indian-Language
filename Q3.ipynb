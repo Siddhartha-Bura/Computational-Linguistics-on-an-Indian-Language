{
 "cells": [
  {
   "cell_type": "code",
   "execution_count": 1,
   "metadata": {},
   "outputs": [],
   "source": [
    "from indicnlp.tokenize.indic_tokenize import trivial_tokenize\n",
    "from indicnlp.normalize.indic_normalize import IndicNormalizerFactory"
   ]
  },
  {
   "cell_type": "code",
   "execution_count": 2,
   "metadata": {},
   "outputs": [],
   "source": [
    "import codecs\n",
    "import string\n",
    "import re\n",
    "from tqdm.notebook import tqdm\n",
    "import pandas as pd"
   ]
  },
  {
   "cell_type": "code",
   "execution_count": 3,
   "metadata": {},
   "outputs": [],
   "source": [
    "import re\n",
    "from operator import itemgetter\n",
    "import matplotlib.pyplot as plt\n",
    "from scipy import special\n",
    "import numpy as np"
   ]
  },
  {
   "cell_type": "code",
   "execution_count": 4,
   "metadata": {},
   "outputs": [],
   "source": [
    "import pickle\n",
    "import os\n",
    "import sys"
   ]
  },
  {
   "cell_type": "code",
   "execution_count": 5,
   "metadata": {},
   "outputs": [],
   "source": [
    "lang = 'hi'                   # language code chosen\n",
    "input_path = 'hi.txt'         # Input file name\n",
    "output_path = 'hi.tok.txt'    # Preprocessed input file name\n",
    "\n",
    "normalizer_factory = IndicNormalizerFactory()\n",
    "normalizer = normalizer_factory.get_normalizer(lang)"
   ]
  },
  {
   "cell_type": "code",
   "execution_count": 6,
   "metadata": {},
   "outputs": [],
   "source": [
    "def clean_text(sentence):\n",
    "    exclude = set(string.punctuation)\n",
    "    remove_digits = str.maketrans('', '', string.digits)\n",
    "    sentence = sentence.lower()                          # Lower case conversion\n",
    "    sentence = ''.join(ch for ch in sentence if ch not in exclude)\n",
    "    sent_temp = ''\n",
    "    for c in sentence:\n",
    "        if c == ' ':\n",
    "            sent_temp += c\n",
    "        elif ord(u'\\u0900') <= ord(c) <= ord(u'\\u097F'): # Hindi unicode range, scrubs remaining characters\n",
    "            sent_temp += c\n",
    "    sentence = sent_temp\n",
    "    sentence = re.sub('[a-z]', '', sentence)             # removes english alphabets if present\n",
    "    sentence = sentence.translate(remove_digits)         # Removes digits\n",
    "    sentence = sentence.strip()\n",
    "    sentence = re.sub(\" +\", \" \", sentence)               # Removes unnecessary spaces\n",
    "    return sentence"
   ]
  },
  {
   "cell_type": "code",
   "execution_count": 7,
   "metadata": {},
   "outputs": [],
   "source": [
    "def process_sent(sent):\n",
    "    normalized = normalizer.normalize(sent)                    # Normalizer for devanagri script\n",
    "    processed = ' '.join(trivial_tokenize(normalized, lang))   # Tokenizer\n",
    "    processed = clean_text(processed)                          # preprocess the sentence\n",
    "    return processed"
   ]
  },
  {
   "cell_type": "markdown",
   "metadata": {},
   "source": [
    "## Preprocess"
   ]
  },
  {
   "cell_type": "code",
   "execution_count": 6,
   "metadata": {},
   "outputs": [
    {
     "data": {
      "application/vnd.jupyter.widget-view+json": {
       "model_id": "96bb16fecdec464cb20e185d91013388",
       "version_major": 2,
       "version_minor": 0
      },
      "text/plain": [
       "  0%|          | 0/63057912 [00:00<?, ?it/s]"
      ]
     },
     "metadata": {},
     "output_type": "display_data"
    }
   ],
   "source": [
    "# Reads corpus and preprocess it and save into another file\n",
    "count = 0\n",
    "with open(input_path, 'r', encoding='utf-8') as in_fp,open(output_path, 'w', encoding='utf-8') as out_fp:\n",
    "    for line in tqdm(in_fp.readlines()):\n",
    "        sent = line.rstrip('\\n')\n",
    "        toksent = process_sent(sent)\n",
    "        out_fp.write(toksent)\n",
    "        out_fp.write('\\n')\n",
    "        count += 1"
   ]
  },
  {
   "cell_type": "code",
   "execution_count": 6,
   "metadata": {},
   "outputs": [
    {
     "name": "stdout",
     "output_type": "stream",
     "text": [
      "63057912\n"
     ]
    }
   ],
   "source": [
    "# Outputs no of lines in our corpus\n",
    "with open(input_path, 'r', encoding='utf-8') as ofp:\n",
    "    print(len(ofp.readlines()))\n",
    "    ofp.close()"
   ]
  },
  {
   "cell_type": "code",
   "execution_count": 8,
   "metadata": {},
   "outputs": [],
   "source": [
    "composite_letters = {'क्ष':[],'त्र':[],'ज्ञ':[],'द्व':[],'त्क':[],'श्र':[],'द्य':[],'द्द':[],'त्त':[],'ध्द':[],'द्भ':[],'द्म':[],'ह्य':[]}"
   ]
  },
  {
   "cell_type": "code",
   "execution_count": 9,
   "metadata": {},
   "outputs": [],
   "source": [
    "# Generating composite words split\n",
    "for i in composite_letters.keys():\n",
    "    chars = []\n",
    "    for j in i:\n",
    "        chars.append(j)\n",
    "    composite_letters[i] = chars"
   ]
  },
  {
   "cell_type": "code",
   "execution_count": 10,
   "metadata": {},
   "outputs": [
    {
     "data": {
      "text/plain": [
       "{'क्ष': ['क', '्', 'ष'],\n",
       " 'त्र': ['त', '्', 'र'],\n",
       " 'ज्ञ': ['ज', '्', 'ञ'],\n",
       " 'द्व': ['द', '्', 'व'],\n",
       " 'त्क': ['त', '्', 'क'],\n",
       " 'श्र': ['श', '्', 'र'],\n",
       " 'द्य': ['द', '्', 'य'],\n",
       " 'द्द': ['द', '्', 'द'],\n",
       " 'त्त': ['त', '्', 'त'],\n",
       " 'ध्द': ['ध', '्', 'द'],\n",
       " 'द्भ': ['द', '्', 'भ'],\n",
       " 'द्म': ['द', '्', 'म'],\n",
       " 'ह्य': ['ह', '्', 'य']}"
      ]
     },
     "execution_count": 10,
     "metadata": {},
     "output_type": "execute_result"
    }
   ],
   "source": [
    "composite_letters"
   ]
  },
  {
   "cell_type": "code",
   "execution_count": 11,
   "metadata": {},
   "outputs": [],
   "source": [
    "consonants=['क', 'ख', 'ग', 'घ', 'ङ',\n",
    "            'च', 'छ', 'ज', 'झ', 'ञ',\n",
    "            'ट', 'ठ', 'ड', 'ढ', 'ण', \n",
    "            'त', 'थ', 'द', 'ध', 'न', \n",
    "            'प', 'फ', 'ब', 'भ', 'म',\n",
    "            'य', 'र', 'ल', 'व', 'श', 'ष', 'स', 'ह', 'ळ']"
   ]
  },
  {
   "cell_type": "code",
   "execution_count": 12,
   "metadata": {},
   "outputs": [],
   "source": [
    "matraas = ['ा', 'ि', 'ी', 'ु', 'ू', 'ृ', 'ॄ', 'ॅ', 'े', 'ै', 'ॉ', 'ो', 'ौ', '्','ं','ः','़','ॢ']"
   ]
  },
  {
   "cell_type": "code",
   "execution_count": 13,
   "metadata": {},
   "outputs": [],
   "source": [
    "vowels = ['अ','आ','इ','ई','उ','ऊ','ए','ऐ','ओ','औ','अं','अ:','ऋ']"
   ]
  },
  {
   "cell_type": "code",
   "execution_count": 33,
   "metadata": {},
   "outputs": [
    {
     "data": {
      "application/vnd.jupyter.widget-view+json": {
       "model_id": "5ff72202d70b465a9c7692529e58a733",
       "version_major": 2,
       "version_minor": 0
      },
      "text/plain": [
       "  0%|          | 0/63057912 [00:00<?, ?it/s]"
      ]
     },
     "metadata": {},
     "output_type": "display_data"
    }
   ],
   "source": [
    "# Set of characters used in the corpus\n",
    "char_set = set()\n",
    "with open(output_path, 'r', encoding='utf-8') as out_fp:\n",
    "    for line in tqdm(out_fp.readlines()):\n",
    "        for char in line:\n",
    "            char_set.add(char)"
   ]
  },
  {
   "cell_type": "code",
   "execution_count": 34,
   "metadata": {
    "scrolled": true
   },
   "outputs": [
    {
     "data": {
      "text/plain": [
       "{'\\n',\n",
       " ' ',\n",
       " 'ऀ',\n",
       " 'ँ',\n",
       " 'ं',\n",
       " 'ः',\n",
       " 'ऄ',\n",
       " 'अ',\n",
       " 'आ',\n",
       " 'इ',\n",
       " 'ई',\n",
       " 'उ',\n",
       " 'ऊ',\n",
       " 'ऋ',\n",
       " 'ऌ',\n",
       " 'ऍ',\n",
       " 'ऎ',\n",
       " 'ए',\n",
       " 'ऐ',\n",
       " 'ऑ',\n",
       " 'ऒ',\n",
       " 'ओ',\n",
       " 'औ',\n",
       " 'क',\n",
       " 'ख',\n",
       " 'ग',\n",
       " 'घ',\n",
       " 'ङ',\n",
       " 'च',\n",
       " 'छ',\n",
       " 'ज',\n",
       " 'झ',\n",
       " 'ञ',\n",
       " 'ट',\n",
       " 'ठ',\n",
       " 'ड',\n",
       " 'ढ',\n",
       " 'ण',\n",
       " 'त',\n",
       " 'थ',\n",
       " 'द',\n",
       " 'ध',\n",
       " 'न',\n",
       " 'प',\n",
       " 'फ',\n",
       " 'ब',\n",
       " 'भ',\n",
       " 'म',\n",
       " 'य',\n",
       " 'र',\n",
       " 'ल',\n",
       " 'ळ',\n",
       " 'व',\n",
       " 'श',\n",
       " 'ष',\n",
       " 'स',\n",
       " 'ह',\n",
       " 'ऺ',\n",
       " 'ऻ',\n",
       " '़',\n",
       " 'ऽ',\n",
       " 'ा',\n",
       " 'ि',\n",
       " 'ी',\n",
       " 'ु',\n",
       " 'ू',\n",
       " 'ृ',\n",
       " 'ॄ',\n",
       " 'ॅ',\n",
       " 'ॆ',\n",
       " 'े',\n",
       " 'ै',\n",
       " 'ॉ',\n",
       " 'ॊ',\n",
       " 'ो',\n",
       " 'ौ',\n",
       " '्',\n",
       " 'ॎ',\n",
       " 'ॏ',\n",
       " 'ॐ',\n",
       " '॑',\n",
       " '॒',\n",
       " '॓',\n",
       " '॔',\n",
       " 'ॕ',\n",
       " 'ॖ',\n",
       " 'ॠ',\n",
       " 'ॡ',\n",
       " 'ॢ',\n",
       " 'ॣ',\n",
       " '॥',\n",
       " '॰',\n",
       " 'ॱ',\n",
       " 'ॳ',\n",
       " 'ॴ',\n",
       " 'ॵ',\n",
       " 'ॶ',\n",
       " 'ॷ',\n",
       " 'ॹ',\n",
       " 'ॺ',\n",
       " 'ॻ',\n",
       " 'ॼ',\n",
       " 'ॽ',\n",
       " 'ॾ',\n",
       " 'ॿ'}"
      ]
     },
     "execution_count": 34,
     "metadata": {},
     "output_type": "execute_result"
    }
   ],
   "source": [
    "char_set"
   ]
  },
  {
   "cell_type": "markdown",
   "metadata": {},
   "source": [
    "### Top 100 unigrams for characters"
   ]
  },
  {
   "cell_type": "code",
   "execution_count": 11,
   "metadata": {},
   "outputs": [
    {
     "data": {
      "application/vnd.jupyter.widget-view+json": {
       "model_id": "bcbb0cbeee0d4fd9b18425edf744c4bd",
       "version_major": 2,
       "version_minor": 0
      },
      "text/plain": [
       "  0%|          | 0/63057912 [00:00<?, ?it/s]"
      ]
     },
     "metadata": {},
     "output_type": "display_data"
    }
   ],
   "source": [
    "# word_dict is a dictionary of words in corpus and their respective frequencies\n",
    "word_dict = {}\n",
    "with open(output_path, 'r', encoding='utf-8') as out_fp:\n",
    "    for line in tqdm(out_fp.readlines()):\n",
    "        for word in line.split():\n",
    "            if word not in word_dict:\n",
    "                word_dict[word] = 1\n",
    "            else:\n",
    "                word_dict[word] += 1"
   ]
  },
  {
   "cell_type": "code",
   "execution_count": 82,
   "metadata": {},
   "outputs": [],
   "source": [
    "# saving the file using pickle\n",
    "dictionary_file = open(\"word_dict.pkl\", \"wb\")\n",
    "pickle.dump(word_dict, dictionary_file)\n",
    "dictionary_file.flush()"
   ]
  },
  {
   "cell_type": "code",
   "execution_count": 14,
   "metadata": {},
   "outputs": [],
   "source": [
    "# using the saved pickle file\n",
    "word_dict = pickle.load(open(\"word_dict.pkl\", \"rb\"))"
   ]
  },
  {
   "cell_type": "code",
   "execution_count": null,
   "metadata": {},
   "outputs": [],
   "source": []
  },
  {
   "cell_type": "code",
   "execution_count": 15,
   "metadata": {},
   "outputs": [],
   "source": [
    "# Utility functions\n",
    "# returns a character is whether consonant or not\n",
    "def isconsonant(char):\n",
    "    return True if char in consonants else False\n",
    "\n",
    "# returns a character is whether matraa or not\n",
    "def ismatraa(char):\n",
    "    return True if char in matraas else False\n",
    "\n",
    "# returns a character is whether vowel or not\n",
    "def isvowel(char):\n",
    "    return True if char in vowels else False\n",
    "\n",
    "# updates dictionary by checking conditions\n",
    "def update_dict(dic,word):\n",
    "    if word in dic:\n",
    "        dic[word] += 1\n",
    "    else:\n",
    "        dic[word] = 1\n",
    "\n",
    "# updates local dictionary to global and multiplies values by a factor\n",
    "def local_to_global_update(local_dict,global_dict,factor):\n",
    "    for i in local_dict:\n",
    "        if i in global_dict:\n",
    "            global_dict[i] += local_dict[i]*factor\n",
    "        else :\n",
    "            global_dict[i] = local_dict[i]*factor"
   ]
  },
  {
   "cell_type": "code",
   "execution_count": 16,
   "metadata": {},
   "outputs": [],
   "source": [
    "# unigram character count\n",
    "uni_char = {}\n",
    "for word in word_dict.keys():\n",
    "    for i in range(len(word)):\n",
    "        local_dict = {}  # local copy of dictionary\n",
    "        if isconsonant(word[i]):\n",
    "            if i<=len(word)-2  and ismatraa(word[i+1]):\n",
    "                update_dict(local_dict,word[i])\n",
    "                update_dict(local_dict,word[i+1])\n",
    "                i += 1\n",
    "            else:\n",
    "                update_dict(local_dict,word[i]) \n",
    "                update_dict(local_dict,'halanta') # If the letter exists individually, then halanta is inserted\n",
    "        else:\n",
    "            update_dict(local_dict,word[i])\n",
    "        local_to_global_update(local_dict,uni_char,word_dict[word])  # updates to global dictionary\n",
    "        local_dict.clear()"
   ]
  },
  {
   "cell_type": "code",
   "execution_count": 17,
   "metadata": {},
   "outputs": [],
   "source": [
    "# Utility function to return top 100 terms of a dictionary\n",
    "def return_top_100(dic):\n",
    "    ans_list = []\n",
    "    for key, value in dic.items():\n",
    "        temp = [key,value]\n",
    "        ans_list.append(temp)\n",
    "    ans_list = sorted(ans_list, key=lambda x: x[1],reverse = True) # reverse sort using frequency\n",
    "    return ans_list[:100]"
   ]
  },
  {
   "cell_type": "code",
   "execution_count": 28,
   "metadata": {},
   "outputs": [],
   "source": [
    "with open(\"unigramwords.txt\", \"w\",encoding='utf-8') as outfile:\n",
    "    outfile.write(\"\\n\".join(str(item[0]) for item in return_top_100(word_dict)))"
   ]
  },
  {
   "cell_type": "code",
   "execution_count": 20,
   "metadata": {
    "scrolled": true
   },
   "outputs": [],
   "source": [
    "with open(\"unigramchar.txt\", \"w\",encoding='utf-8') as outfile:\n",
    "    outfile.write(\"\\n\".join(str(item[0]) for item in return_top_100(uni_char)))"
   ]
  },
  {
   "cell_type": "markdown",
   "metadata": {},
   "source": [
    "### Top 100 Bi-grams, Tri-grams, Quad-grams"
   ]
  },
  {
   "cell_type": "code",
   "execution_count": 21,
   "metadata": {},
   "outputs": [],
   "source": [
    "# Returns characters in a word as list after processing\n",
    "def generate_corrected(word):\n",
    "    ans = []\n",
    "    i = 0\n",
    "    while(i < len(word)):\n",
    "        if isconsonant(word[i]):\n",
    "            #if i<=len(word)-3 and word[i+1]=='्' and (word[i]+word[i+1]+word[i+2]) in ['क्ष','त्र','ज्ञ','श्र']:\n",
    "                #ans.append(word[i]+word[i+1]+word[i+2])\n",
    "                #i+=2\n",
    "            #el\n",
    "            if i<=len(word)-2  and ismatraa(word[i+1]):\n",
    "                ans.extend([word[i],word[i+1]])\n",
    "                i+=1\n",
    "            else:\n",
    "                ans.extend([word[i],'h']) # Adds halanta for standalone consonants without matraa\n",
    "        else:\n",
    "            ans.append(word[i])\n",
    "        i += 1\n",
    "    return ans"
   ]
  },
  {
   "cell_type": "code",
   "execution_count": 22,
   "metadata": {},
   "outputs": [],
   "source": [
    "bi_char = {} # Bi gram character count\n",
    "tri_char = {} # Tri gram character count\n",
    "quad_char = {} # Quad gram character count\n",
    "for word in word_dict.keys():\n",
    "    corrected_char_list = generate_corrected(word)\n",
    "    # local copies of dictionary\n",
    "    bi_local_dict = {}\n",
    "    tri_local_dict = {}\n",
    "    quad_local_dict = {}\n",
    "    for i in range(len(corrected_char_list)):\n",
    "        # updates bigram, trigram and quadgram character dictionaries simultaneously\n",
    "        if(i+1 <= len(corrected_char_list)-1):\n",
    "            update_dict(bi_local_dict,corrected_char_list[i]+corrected_char_list[i+1])\n",
    "        if(i+2 <= len(corrected_char_list)-1):\n",
    "            update_dict(tri_local_dict,corrected_char_list[i]+corrected_char_list[i+1]+corrected_char_list[i+2])\n",
    "        if(i+3 <= len(corrected_char_list)-1):\n",
    "            update_dict(quad_local_dict,corrected_char_list[i]+corrected_char_list[i+1]+corrected_char_list[i+2]+corrected_char_list[i+3]) \n",
    "        # Global updation\n",
    "        local_to_global_update(bi_local_dict,bi_char,word_dict[word])\n",
    "        bi_local_dict.clear()\n",
    "        local_to_global_update(tri_local_dict,tri_char,word_dict[word])\n",
    "        tri_local_dict.clear()\n",
    "        local_to_global_update(quad_local_dict,quad_char,word_dict[word])\n",
    "        quad_local_dict.clear()"
   ]
  },
  {
   "cell_type": "code",
   "execution_count": 23,
   "metadata": {},
   "outputs": [],
   "source": [
    "with open(\"bigramchar.txt\", \"w\",encoding='utf-8') as outfile:\n",
    "    outfile.write(\"\\n\".join(str(item[0]) for item in return_top_100(bi_char)))\n",
    "\n",
    "with open(\"trigramchar.txt\", \"w\",encoding='utf-8') as outfile:\n",
    "    outfile.write(\"\\n\".join(str(item[0]) for item in return_top_100(tri_char)))\n",
    "\n",
    "with open(\"quadgramchar.txt\", \"w\",encoding='utf-8') as outfile:\n",
    "    outfile.write(\"\\n\".join(str(item[0]) for item in return_top_100(quad_char)))"
   ]
  },
  {
   "cell_type": "code",
   "execution_count": 24,
   "metadata": {
    "scrolled": true
   },
   "outputs": [
    {
     "data": {
      "text/plain": [
       "[['रh', 245127349],\n",
       " ['hर', 162181038],\n",
       " ['कh', 127601750],\n",
       " ['सh', 108750214],\n",
       " ['नh', 107925233],\n",
       " ['के', 85619986],\n",
       " ['पh', 84758563],\n",
       " ['hन', 83844074],\n",
       " ['hह', 81597538],\n",
       " ['तh', 73975625],\n",
       " ['ार', 73083201],\n",
       " ['ें', 72439587],\n",
       " ['hक', 69956980],\n",
       " ['ने', 69062846],\n",
       " ['लh', 68969930],\n",
       " ['्र', 67959990],\n",
       " ['मh', 67697634],\n",
       " ['का', 65564827],\n",
       " ['है', 62737242],\n",
       " ['मे', 62502065],\n",
       " ['या', 62432796],\n",
       " ['hत', 62245646],\n",
       " ['हh', 58813227],\n",
       " ['यh', 57990828],\n",
       " ['बh', 51692761],\n",
       " ['की', 49789341],\n",
       " ['गh', 48606384],\n",
       " ['र्', 48330199],\n",
       " ['वh', 47774861],\n",
       " ['hल', 47162037],\n",
       " ['से', 45694011],\n",
       " ['ों', 45298012],\n",
       " ['ान', 44836491],\n",
       " ['जh', 44689749],\n",
       " ['hम', 44659166],\n",
       " ['को', 43079135],\n",
       " ['कि', 42236496],\n",
       " ['्य', 42068990],\n",
       " ['रा', 42039234],\n",
       " ['दh', 38326779],\n",
       " ['ता', 38159148],\n",
       " ['िय', 37804139],\n",
       " ['ना', 36048966],\n",
       " ['वा', 35165412],\n",
       " ['स्', 35155835],\n",
       " ['क्', 33222518],\n",
       " ['री', 32367710],\n",
       " ['टh', 31057677],\n",
       " ['मा', 30724640],\n",
       " ['प्', 29698893],\n",
       " ['ला', 29242987],\n",
       " ['ही', 28783257],\n",
       " ['ाल', 28531808],\n",
       " ['ले', 27838626],\n",
       " ['हा', 27059828],\n",
       " ['सा', 27034493],\n",
       " ['hस', 26767711],\n",
       " ['त्', 26599932],\n",
       " ['जा', 26562521],\n",
       " ['शh', 25635966],\n",
       " ['िक', 25625665],\n",
       " ['हो', 24506852],\n",
       " ['और', 24303550],\n",
       " ['्त', 24220978],\n",
       " ['hव', 23827664],\n",
       " ['लि', 23603759],\n",
       " ['बा', 23000728],\n",
       " ['वि', 22332398],\n",
       " ['ैं', 22278294],\n",
       " ['िल', 21987254],\n",
       " ['hय', 21873779],\n",
       " ['रे', 21728035],\n",
       " ['ां', 21359918],\n",
       " ['इस', 20730132],\n",
       " ['hद', 20509198],\n",
       " ['रि', 20275780],\n",
       " ['ात', 19962896],\n",
       " ['्ट', 19679119],\n",
       " ['चh', 19266572],\n",
       " ['दे', 18983062],\n",
       " ['भी', 18603958],\n",
       " ['ड़', 18559136],\n",
       " ['ित', 18447209],\n",
       " ['ाम', 18173786],\n",
       " ['पा', 17884879],\n",
       " ['ते', 17757865],\n",
       " ['नि', 17750522],\n",
       " ['दि', 17686808],\n",
       " ['न्', 17555583],\n",
       " ['ाय', 17530513],\n",
       " ['िस', 17432785],\n",
       " ['यो', 17429174],\n",
       " ['ंग', 17176259],\n",
       " ['नी', 16642235],\n",
       " ['रो', 16368506],\n",
       " ['hब', 16233598],\n",
       " ['्व', 16086604],\n",
       " ['िए', 15799314],\n",
       " ['ति', 15796630],\n",
       " ['ती', 15647513]]"
      ]
     },
     "execution_count": 24,
     "metadata": {},
     "output_type": "execute_result"
    }
   ],
   "source": [
    "return_top_100(bi_char)"
   ]
  },
  {
   "cell_type": "code",
   "execution_count": 25,
   "metadata": {
    "scrolled": true
   },
   "outputs": [
    {
     "data": {
      "text/plain": [
       "[['hरh', 101657929],\n",
       " ['में', 54736487],\n",
       " ['कhर', 45165289],\n",
       " ['ारh', 37808309],\n",
       " ['्रh', 34399163],\n",
       " ['hहh', 31206833],\n",
       " ['पhर', 28454520],\n",
       " ['hनh', 28388951],\n",
       " ['hकh', 24717468],\n",
       " ['प्र', 24604106],\n",
       " ['औरh', 24233518],\n",
       " ['ानh', 23364231],\n",
       " ['िया', 23063999],\n",
       " ['hने', 22613344],\n",
       " ['hर्', 21721924],\n",
       " ['hलh', 20035162],\n",
       " ['hमh', 19831049],\n",
       " ['्यh', 19347694],\n",
       " ['रhह', 19108905],\n",
       " ['hही', 18546743],\n",
       " ['hहा', 18358303],\n",
       " ['कार', 18356202],\n",
       " ['hना', 18036337],\n",
       " ['इसh', 17403844],\n",
       " ['हैं', 17036305],\n",
       " ['hता', 16472828],\n",
       " ['hतh', 15904459],\n",
       " ['रhत', 15741829],\n",
       " ['्या', 15588948],\n",
       " ['सhक', 14832663],\n",
       " ['ालh', 14366749],\n",
       " ['त्र', 13563711],\n",
       " ['hका', 13181410],\n",
       " ['सhम', 12858469],\n",
       " ['ामh', 12842489],\n",
       " ['िकh', 12306860],\n",
       " ['पhन', 12229021],\n",
       " ['हीं', 11904138],\n",
       " ['ितh', 11757432],\n",
       " ['क्ष', 11516420],\n",
       " ['एकh', 11376342],\n",
       " ['लिए', 11368549],\n",
       " ['ार्', 11217371],\n",
       " ['रhन', 11198831],\n",
       " ['hवा', 11083616],\n",
       " ['hक्', 10958202],\n",
       " ['सhर', 10791510],\n",
       " ['नhह', 10723325],\n",
       " ['रhक', 10588483],\n",
       " ['ेशh', 10375754],\n",
       " ['hड़', 10225702],\n",
       " ['hके', 9968073],\n",
       " ['कhह', 9904457],\n",
       " ['ादh', 9800852],\n",
       " ['्तh', 9722864],\n",
       " ['यों', 9681707],\n",
       " ['तhर', 9611184],\n",
       " ['hबh', 9538040],\n",
       " ['अपh', 9525651],\n",
       " ['्री', 9473865],\n",
       " ['hदh', 9304921],\n",
       " ['hते', 9186775],\n",
       " ['hरी', 9148386],\n",
       " ['hरा', 9014078],\n",
       " ['वhर', 9001359],\n",
       " ['यhह', 8963993],\n",
       " ['ारी', 8931317],\n",
       " ['्टh', 8857300],\n",
       " ['hया', 8787760],\n",
       " ['hले', 8709614],\n",
       " ['नhक', 8563080],\n",
       " ['किय', 8527316],\n",
       " ['िनh', 8474385],\n",
       " ['िसh', 8441576],\n",
       " ['ियो', 8425081],\n",
       " ['hस्', 8424886],\n",
       " ['वार', 8306318],\n",
       " ['स्त', 8141997],\n",
       " ['ाने', 8139656],\n",
       " ['्रा', 8045371],\n",
       " ['ायh', 7992382],\n",
       " ['जhन', 7982678],\n",
       " ['ंगh', 7974381],\n",
       " ['ासh', 7918091],\n",
       " ['hयh', 7906999],\n",
       " ['hमा', 7787897],\n",
       " ['hगh', 7781633],\n",
       " ['hनी', 7744741],\n",
       " ['ाजh', 7718307],\n",
       " ['ावh', 7689219],\n",
       " ['hरे', 7627274],\n",
       " ['वाल', 7575780],\n",
       " ['hणh', 7536844],\n",
       " ['लhग', 7499209],\n",
       " ['पhह', 7444362],\n",
       " ['गhय', 7406334],\n",
       " ['्वh', 7379692],\n",
       " ['ातh', 7369724],\n",
       " ['हhर', 7255975],\n",
       " ['ाथh', 7250830]]"
      ]
     },
     "execution_count": 25,
     "metadata": {},
     "output_type": "execute_result"
    }
   ],
   "source": [
    "return_top_100(tri_char)"
   ]
  },
  {
   "cell_type": "code",
   "execution_count": 26,
   "metadata": {
    "scrolled": true
   },
   "outputs": [
    {
     "data": {
      "text/plain": [
       "[['कhरh', 34086031],\n",
       " ['पhरh', 20933755],\n",
       " ['प्रh', 18325707],\n",
       " ['hहीं', 11729193],\n",
       " ['नhही', 10431121],\n",
       " ['hरhन', 9623225],\n",
       " ['कारh', 8669139],\n",
       " ['अपhन', 8512149],\n",
       " ['किया', 7839039],\n",
       " ['hकार', 7519030],\n",
       " ['रhने', 7211867],\n",
       " ['कhहा', 6973717],\n",
       " ['तhरh', 6788010],\n",
       " ['ियों', 6626467],\n",
       " ['यhहh', 6615132],\n",
       " ['सhरh', 6463584],\n",
       " ['गhया', 6405984],\n",
       " ['देशh', 5931064],\n",
       " ['बादh', 5862143],\n",
       " ['रhका', 5856557],\n",
       " ['साथh', 5807257],\n",
       " ['उन्ह', 5699590],\n",
       " ['त्रh', 5586104],\n",
       " ['सhके', 5554412],\n",
       " ['hक्ष', 5534207],\n",
       " ['रhहh', 5441564],\n",
       " ['सhमh', 5437900],\n",
       " ['hरhत', 5240063],\n",
       " ['hरhक', 5235047],\n",
       " ['रhहे', 5216508],\n",
       " ['तhकh', 5193139],\n",
       " ['पhहh', 5160245],\n",
       " ['ंत्र', 4939458],\n",
       " ['पhने', 4891732],\n",
       " ['hकhत', 4889273],\n",
       " ['क्षh', 4875025],\n",
       " ['सhकh', 4838673],\n",
       " ['भारh', 4681158],\n",
       " ['्यhक', 4670325],\n",
       " ['ारhत', 4665784],\n",
       " ['वारh', 4600569],\n",
       " ['उनhक', 4592510],\n",
       " ['hहhल', 4587063],\n",
       " ['दिया', 4531211],\n",
       " ['रhणh', 4523922],\n",
       " ['hकhर', 4509005],\n",
       " ['रhतh', 4479089],\n",
       " ['कार्', 4273171],\n",
       " ['वhर्', 4268726],\n",
       " ['्रhत', 4212079],\n",
       " ['जhनh', 4186663],\n",
       " ['रhहा', 4165965],\n",
       " ['शhनh', 4135135],\n",
       " ['हhरh', 4083518],\n",
       " ['इसhक', 4062209],\n",
       " ['मानh', 3994868],\n",
       " ['त्री', 3978873],\n",
       " ['मंत्', 3961743],\n",
       " ['टhरh', 3925701],\n",
       " ['रhही', 3909527],\n",
       " ['न्हो', 3895060],\n",
       " ['पhनी', 3801322],\n",
       " ['्हों', 3800439],\n",
       " ['ोंने', 3782487],\n",
       " ['होंन', 3781075],\n",
       " ['बhता', 3662573],\n",
       " ['बhना', 3648991],\n",
       " ['किनh', 3648235],\n",
       " ['्रhद', 3632914],\n",
       " ['हhमh', 3618798],\n",
       " ['hमें', 3573291],\n",
       " ['राजh', 3545581],\n",
       " ['्ट्र', 3515568],\n",
       " ['बhरh', 3503247],\n",
       " ['लेकि', 3500146],\n",
       " ['ेकिन', 3496925],\n",
       " ['जिसh', 3469115],\n",
       " ['ार्य', 3461742],\n",
       " ['र्यh', 3459194],\n",
       " ['स्था', 3448151],\n",
       " ['hर्म', 3430212],\n",
       " ['यhक्', 3417982],\n",
       " ['वhहh', 3413178],\n",
       " ['गhरh', 3401954],\n",
       " ['मिलh', 3345319],\n",
       " ['लhगा', 3343090],\n",
       " ['जhबh', 3325919],\n",
       " ['पhरि', 3220743],\n",
       " ['कुछh', 3156614],\n",
       " ['िंगh', 3139234],\n",
       " ['द्रh', 3132482],\n",
       " ['अधिक', 3117438],\n",
       " ['hहhत', 3108018],\n",
       " ['hहां', 3100617],\n",
       " ['हhले', 3029901],\n",
       " ['होने', 2972951],\n",
       " ['उसhक', 2963680],\n",
       " ['रhति', 2958924],\n",
       " ['कारी', 2958288],\n",
       " ['कhरे', 2957544]]"
      ]
     },
     "execution_count": 26,
     "metadata": {},
     "output_type": "execute_result"
    }
   ],
   "source": [
    "return_top_100(quad_char)"
   ]
  },
  {
   "cell_type": "markdown",
   "metadata": {},
   "source": [
    "### Unigrams, Bigrams and Trigrams for words"
   ]
  },
  {
   "cell_type": "code",
   "execution_count": 27,
   "metadata": {},
   "outputs": [],
   "source": [
    "# utility function to split words as bigrams and updates the dictionary\n",
    "def splitter(dic,s,length):\n",
    "    y = []\n",
    "    for x in range(len(s)):\n",
    "        n = s[x:x+length]\n",
    "        if(len(n)==length):\n",
    "            y.append(n)\n",
    "    for i in y:\n",
    "        update_dict(dic,tuple(i))"
   ]
  },
  {
   "cell_type": "markdown",
   "metadata": {
    "scrolled": true
   },
   "source": [
    "count = 0\n",
    "index = 0\n",
    "if not os.path.exists(\"q3bfiles\"+os.sep + \"bi\"):\n",
    "    os.makedirs(\"q3bfiles\"+os.sep + \"bi\")\n",
    "with tqdm(total=os.path.getsize(output_path)) as pbar:\n",
    "    with open(output_path, \"r\",encoding='utf-8') as out_fp:\n",
    "        dic = {}\n",
    "        for line in out_fp:\n",
    "            count += 1\n",
    "            splitter(dic,line.split(),2)\n",
    "            if(count % 5000000 == 0):\n",
    "                dictionary_file = open(\"q3bfiles\" + os.sep + \"bi\" + os.sep +\"dic\"+ str(index+1)+\".pkl\", \"wb\")\n",
    "                pickle.dump(dic, dictionary_file)\n",
    "                dictionary_file.flush()\n",
    "                dic.clear()\n",
    "                index += 1\n",
    "                print(count, \" lines processed.\")\n",
    "                print(index+1, \" files written !!!\")\n",
    "            pbar.update(len(line))\n",
    "        if(len(dic.keys())!=0):\n",
    "        dictionary_file = open(\"q3bfiles\" + os.sep + \"bii\" + os.sep +\"dic\"+ str(index+1)+\".pkl\", \"wb\")\n",
    "        pickle.dump(dic, dictionary_file)\n",
    "        dictionary_file.flush()\n",
    "        dic.clear()\n",
    "        index += 1\n",
    "        print(count, \" lines processed.\")\n",
    "        print(index, \" files written !!!\")"
   ]
  },
  {
   "cell_type": "markdown",
   "metadata": {},
   "source": [
    "# Use this to run the code on whole corpus, takes a lot of time\n",
    "count = 0\n",
    "index = 0\n",
    "if not os.path.exists(\"q3bfiles\"+os.sep + \"bi\"):\n",
    "    os.makedirs(\"q3bfiles\"+os.sep + \"bi\")\n",
    "with open(output_path, \"r\",encoding='utf-8') as out_fp:\n",
    "    dic = {}\n",
    "    for line in out_fp:\n",
    "        count += 1\n",
    "        splitter(dic,line.split(),2)\n",
    "        if(count % 5000000 == 0):\n",
    "            dictionary_file = open(\"q3bfiles\" + os.sep + \"bi\" + os.sep +\"dic\"+ str(index+1)+\".pkl\", \"wb\")\n",
    "            pickle.dump(dic, dictionary_file)\n",
    "            dictionary_file.flush()\n",
    "            dic.clear()\n",
    "            index += 1\n",
    "            print(count, \" lines processed.\")\n",
    "            print(index+1, \" files written !!!\")\n",
    "    if(len(dic.keys())!=0):\n",
    "        dictionary_file = open(\"q3bfiles\" + os.sep + \"bi\" + os.sep +\"dic\"+ str(index+1)+\".pkl\", \"wb\")\n",
    "        pickle.dump(dic, dictionary_file)\n",
    "        dictionary_file.flush()\n",
    "        dic.clear()\n",
    "        index += 1\n",
    "        print(count, \" lines processed.\")\n",
    "        print(index, \" files written !!!\")"
   ]
  },
  {
   "cell_type": "markdown",
   "metadata": {},
   "source": [
    "# writes all dictionary files into text format\n",
    "dictionary_file = open(\"q3bfiles\" + os.sep + \"bi\" + os.sep +\"dictext\"+\".txt\", \"a\",encoding='utf-8')\n",
    "for i in range(13):\n",
    "    print(i+1)\n",
    "    dictemp = pickle.load(open(\"q3bfiles\" + os.sep + \"bi\" + os.sep +\"dic\"+ str(i+1)+\".pkl\", \"rb\"))\n",
    "    for i in dictemp:\n",
    "        dictionary_file.write(str(i)+'\\t'+str(dictemp[i])+'\\n')\n",
    "    dictemp.clear()"
   ]
  },
  {
   "cell_type": "markdown",
   "metadata": {},
   "source": [
    "# Reads the above file as dataframe\n",
    "df = pd.read_csv(\"q3bfiles\" + os.sep + \"bi\" + os.sep +\"dictext\"+\".txt\", sep='\\t', header=None)\n",
    "df.columns = [\"tuple\",\"count\"]\n",
    "df.groupby('tuple').agg({'count' : 'sum'})\n",
    "df = df.sort('count', ascending=False)\n",
    "df['tuple'][:100]"
   ]
  },
  {
   "cell_type": "markdown",
   "metadata": {},
   "source": [
    "### Bigram words"
   ]
  },
  {
   "cell_type": "code",
   "execution_count": 30,
   "metadata": {
    "scrolled": true
   },
   "outputs": [],
   "source": [
    "# ran on 1 crore lines out of 6 crore, memory running out even with above method.\n",
    "count = 0\n",
    "dic = {} # dictionary storing bigrams and their frequencies\n",
    "if not os.path.exists(\"q3bfiles\"+os.sep + \"bii\"):\n",
    "    os.makedirs(\"q3bfiles\"+os.sep + \"bii\")\n",
    "with open(output_path, \"r\",encoding='utf-8') as out_fp:\n",
    "    for line in out_fp:\n",
    "        count += 1\n",
    "        splitter(dic,line.split(),2)  # sending 2 as length for bigram creation\n",
    "        if(count == 10000000):\n",
    "            break"
   ]
  },
  {
   "cell_type": "code",
   "execution_count": null,
   "metadata": {},
   "outputs": [],
   "source": [
    "with open(\"bigramwords.txt\", \"w\",encoding='utf-8') as outfile:\n",
    "    outfile.write(\"\\n\".join(str(item[0]) for item in return_top_100(dic)))"
   ]
  },
  {
   "cell_type": "code",
   "execution_count": 35,
   "metadata": {
    "scrolled": true
   },
   "outputs": [
    {
     "data": {
      "text/plain": [
       "[[('के', 'लिए'), 1447506],\n",
       " [('है', 'कि'), 841609],\n",
       " [('के', 'साथ'), 606275],\n",
       " [('कहा', 'कि'), 535455],\n",
       " [('के', 'बाद'), 489655],\n",
       " [('रहा', 'है'), 403588],\n",
       " [('ने', 'कहा'), 393061],\n",
       " [('गया', 'है'), 372043],\n",
       " [('है', 'और'), 371749],\n",
       " [('रहे', 'हैं'), 345572],\n",
       " [('करने', 'के'), 297329],\n",
       " [('रही', 'है'), 292745],\n",
       " [('जाता', 'है'), 247466],\n",
       " [('किया', 'गया'), 231480],\n",
       " [('सकता', 'है'), 221373],\n",
       " [('नहीं', 'है'), 218436],\n",
       " [('बताया', 'कि'), 213912],\n",
       " [('होता', 'है'), 211665],\n",
       " [('कर', 'दिया'), 207269],\n",
       " [('किया', 'है'), 202348],\n",
       " [('को', 'लेकर'), 201493],\n",
       " [('सकते', 'हैं'), 195849],\n",
       " [('उन्होंने', 'कहा'), 190793],\n",
       " [('बारे', 'में'), 176383],\n",
       " [('है', 'तो'), 174947],\n",
       " [('के', 'खिलाफ'), 174888],\n",
       " [('के', 'बीच'), 173061],\n",
       " [('हैं', 'और'), 172174],\n",
       " [('के', 'दौरान'), 169947],\n",
       " [('करते', 'हुए'), 163565],\n",
       " [('कर', 'रहे'), 160387],\n",
       " [('जा', 'रहा'), 159003],\n",
       " [('में', 'भी'), 155957],\n",
       " [('में', 'एक'), 155695],\n",
       " [('ने', 'बताया'), 154135],\n",
       " [('गई', 'है'), 153975],\n",
       " [('की', 'है'), 145948],\n",
       " [('साथ', 'ही'), 144957],\n",
       " [('करने', 'की'), 144555],\n",
       " [('दिया', 'है'), 139173],\n",
       " [('के', 'अनुसार'), 138410],\n",
       " [('के', 'बारे'), 136284],\n",
       " [('करते', 'हैं'), 135416],\n",
       " [('हैं', 'कि'), 134496],\n",
       " [('था', 'कि'), 133904],\n",
       " [('है', 'जो'), 132908],\n",
       " [('लोगों', 'को'), 132783],\n",
       " [('गया', 'था'), 131664],\n",
       " [('है', 'लेकिन'), 129012],\n",
       " [('हो', 'गया'), 128871],\n",
       " [('के', 'कारण'), 128846],\n",
       " [('होती', 'है'), 123250],\n",
       " [('रूप', 'में'), 122758],\n",
       " [('के', 'पास'), 122689],\n",
       " [('मामले', 'में'), 121111],\n",
       " [('दिया', 'गया'), 119689],\n",
       " [('को', 'भी'), 119621],\n",
       " [('की', 'गई'), 118641],\n",
       " [('हो', 'गई'), 117093],\n",
       " [('पुलिस', 'ने'), 116757],\n",
       " [('होने', 'के'), 115898],\n",
       " [('रूप', 'से'), 113862],\n",
       " [('करने', 'का'), 113093],\n",
       " [('के', 'रूप'), 112486],\n",
       " [('की', 'ओर'), 110749],\n",
       " [('की', 'बात'), 107452],\n",
       " [('के', 'मुताबिक'), 106734],\n",
       " [('जा', 'रही'), 105298],\n",
       " [('करता', 'है'), 104791],\n",
       " [('सकती', 'है'), 103466],\n",
       " [('किया', 'था'), 100117],\n",
       " [('में', 'से'), 97575],\n",
       " [('सरकार', 'ने'), 96086],\n",
       " [('के', 'तहत'), 95963],\n",
       " [('जा', 'सकता'), 95394],\n",
       " [('जाती', 'है'), 95280],\n",
       " [('कर', 'सकते'), 95267],\n",
       " [('इसके', 'बाद'), 94670],\n",
       " [('हुआ', 'है'), 94213],\n",
       " [('किसी', 'भी'), 91471],\n",
       " [('कहना', 'है'), 91388],\n",
       " [('से', 'पहले'), 91136],\n",
       " [('है', 'इस'), 90854],\n",
       " [('हैं', 'तो'), 90061],\n",
       " [('के', 'एक'), 89482],\n",
       " [('तौर', 'पर'), 88841],\n",
       " [('वजह', 'से'), 88532],\n",
       " [('किया', 'जा'), 88460],\n",
       " [('कर', 'रही'), 87478],\n",
       " [('कर', 'दी'), 87180],\n",
       " [('कि', 'वह'), 86299],\n",
       " [('रहे', 'थे'), 85959],\n",
       " [('रहा', 'था'), 85275],\n",
       " [('गए', 'हैं'), 83996],\n",
       " [('का', 'कहना'), 83672],\n",
       " [('क्षेत्र', 'में'), 82611],\n",
       " [('के', 'नाम'), 81701],\n",
       " [('कि', 'इस'), 79962],\n",
       " [('देश', 'के'), 79928],\n",
       " [('से', 'भी'), 79785]]"
      ]
     },
     "execution_count": 35,
     "metadata": {},
     "output_type": "execute_result"
    }
   ],
   "source": [
    "return_top_100(dic)"
   ]
  },
  {
   "cell_type": "code",
   "execution_count": 18,
   "metadata": {},
   "outputs": [],
   "source": [
    "count = 0\n",
    "dic = {}\n",
    "if not os.path.exists(\"q3bfiles\"+os.sep + \"bii\"):\n",
    "    os.makedirs(\"q3bfiles\"+os.sep + \"bii\")\n",
    "with open(output_path, \"r\",encoding='utf-8') as out_fp:\n",
    "    for line in out_fp:\n",
    "        count += 1\n",
    "        splitter(dic,line.split(),3) # sending 3 as length for trigram creation\n",
    "        if(count == 1000000):\n",
    "            break"
   ]
  },
  {
   "cell_type": "code",
   "execution_count": null,
   "metadata": {},
   "outputs": [],
   "source": [
    "with open(\"trigramwords.txt\", \"w\",encoding='utf-8') as outfile:\n",
    "    outfile.write(\"\\n\".join(str(item[0]) for item in return_top_100(dic)))"
   ]
  },
  {
   "cell_type": "code",
   "execution_count": 19,
   "metadata": {
    "scrolled": true
   },
   "outputs": [
    {
     "data": {
      "text/plain": [
       "[[('ने', 'कहा', 'कि'), 24097],\n",
       " [('करने', 'के', 'लिए'), 17433],\n",
       " [('उन्होंने', 'कहा', 'कि'), 13994],\n",
       " [('जा', 'रहा', 'है'), 13435],\n",
       " [('ने', 'बताया', 'कि'), 13345],\n",
       " [('के', 'बारे', 'में'), 13217],\n",
       " [('के', 'रूप', 'में'), 11128],\n",
       " [('कर', 'रहे', 'हैं'), 9965],\n",
       " [('किया', 'गया', 'है'), 8715],\n",
       " [('कहना', 'है', 'कि'), 8160],\n",
       " [('जा', 'सकता', 'है'), 7660],\n",
       " [('का', 'कहना', 'है'), 7491],\n",
       " [('कर', 'सकते', 'हैं'), 7435],\n",
       " [('जा', 'रही', 'है'), 6977],\n",
       " [('की', 'ओर', 'से'), 6918],\n",
       " [('बता', 'दें', 'कि'), 6116],\n",
       " [('की', 'वजह', 'से'), 5819],\n",
       " [('हो', 'सकता', 'है'), 5680],\n",
       " [('कहा', 'है', 'कि'), 5673],\n",
       " [('दिया', 'गया', 'है'), 5404],\n",
       " [('कर', 'रही', 'है'), 5084],\n",
       " [('कर', 'दिया', 'है'), 4677],\n",
       " [('हुए', 'कहा', 'कि'), 4579],\n",
       " [('यह', 'है', 'कि'), 4576],\n",
       " [('रहा', 'है', 'कि'), 4525],\n",
       " [('हो', 'गया', 'है'), 4486],\n",
       " [('के', 'माध्यम', 'से'), 4472],\n",
       " [('हो', 'रहा', 'है'), 4330],\n",
       " [('के', 'आधार', 'पर'), 4292],\n",
       " [('के', 'मामले', 'में'), 4190],\n",
       " [('के', 'लिए', 'एक'), 4115],\n",
       " [('हाल', 'ही', 'में'), 4077],\n",
       " [('किया', 'जाता', 'है'), 4029],\n",
       " [('कर', 'रहा', 'है'), 4023],\n",
       " [('गया', 'है', 'कि'), 4003],\n",
       " [('इस', 'मामले', 'में'), 3951],\n",
       " [('कर', 'दिया', 'गया'), 3878],\n",
       " [('किया', 'जा', 'रहा'), 3850],\n",
       " [('के', 'तौर', 'पर'), 3818],\n",
       " [('जा', 'रहे', 'हैं'), 3783],\n",
       " [('उन्होंने', 'बताया', 'कि'), 3760],\n",
       " [('होने', 'के', 'बाद'), 3751],\n",
       " [('की', 'गई', 'है'), 3742],\n",
       " [('कहा', 'था', 'कि'), 3692],\n",
       " [('करने', 'के', 'बाद'), 3624],\n",
       " [('के', 'साथ', 'साथ'), 3602],\n",
       " [('किया', 'गया', 'था'), 3553],\n",
       " [('के', 'साथ', 'ही'), 3544],\n",
       " [('हो', 'रही', 'है'), 3517],\n",
       " [('किया', 'जा', 'सकता'), 3413],\n",
       " [('एक', 'बार', 'फिर'), 3384],\n",
       " [('मौत', 'हो', 'गई'), 3383],\n",
       " [('हो', 'जाता', 'है'), 3372],\n",
       " [('की', 'जा', 'रही'), 3301],\n",
       " [('हो', 'सकती', 'है'), 3293],\n",
       " [('के', 'नाम', 'पर'), 3231],\n",
       " [('करते', 'हुए', 'कहा'), 3215],\n",
       " [('प्रधानमंत्री', 'नरेंद्र', 'मोदी'), 3177],\n",
       " [('सोशल', 'मीडिया', 'पर'), 3170],\n",
       " [('ने', 'कहा', 'है'), 3166],\n",
       " [('हो', 'गई', 'है'), 3061],\n",
       " [('की', 'तरफ', 'से'), 2994],\n",
       " [('बनाने', 'के', 'लिए'), 2976],\n",
       " [('है', 'कि', 'वह'), 2920],\n",
       " [('है', 'कि', 'इस'), 2918],\n",
       " [('इस', 'अवसर', 'पर'), 2823],\n",
       " [('इसके', 'साथ', 'ही'), 2822],\n",
       " [('देने', 'के', 'लिए'), 2799],\n",
       " [('कहा', 'गया', 'है'), 2797],\n",
       " [('गौरतलब', 'है', 'कि'), 2769],\n",
       " [('में', 'से', 'एक'), 2748],\n",
       " [('लगता', 'है', 'कि'), 2692],\n",
       " [('कर', 'रहे', 'थे'), 2671],\n",
       " [('कम', 'से', 'कम'), 2669],\n",
       " [('दी', 'गई', 'है'), 2666],\n",
       " [('की', 'मांग', 'की'), 2653],\n",
       " [('पूरी', 'तरह', 'से'), 2637],\n",
       " [('के', 'लिए', 'भी'), 2584],\n",
       " [('जाता', 'है', 'कि'), 2531],\n",
       " [('के', 'बाद', 'भी'), 2511],\n",
       " [('की', 'मौत', 'हो'), 2478],\n",
       " [('कर', 'दी', 'है'), 2469],\n",
       " [('होने', 'के', 'कारण'), 2463],\n",
       " [('इस', 'बारे', 'में'), 2346],\n",
       " [('को', 'देखते', 'हुए'), 2336],\n",
       " [('हो', 'जाती', 'है'), 2323],\n",
       " [('माना', 'जाता', 'है'), 2302],\n",
       " [('कर', 'लिया', 'है'), 2248],\n",
       " [('इस', 'मौके', 'पर'), 2221],\n",
       " [('कहा', 'जाता', 'है'), 2218],\n",
       " [('का', 'सामना', 'करना'), 2211],\n",
       " [('जाने', 'के', 'बाद'), 2203],\n",
       " [('की', 'कोशिश', 'की'), 2169],\n",
       " [('मानना', 'है', 'कि'), 2121],\n",
       " [('है', 'कि', 'यह'), 2116],\n",
       " [('कर', 'सकता', 'है'), 2113],\n",
       " [('शुरू', 'कर', 'दी'), 2098],\n",
       " [('के', 'बाद', 'से'), 2053],\n",
       " [('आपको', 'बता', 'दें'), 2052],\n",
       " [('कर', 'दिया', 'था'), 2042]]"
      ]
     },
     "execution_count": 19,
     "metadata": {},
     "output_type": "execute_result"
    }
   ],
   "source": [
    "return_top_100(dic)"
   ]
  },
  {
   "cell_type": "code",
   "execution_count": 20,
   "metadata": {},
   "outputs": [],
   "source": [
    "count = 0\n",
    "dic = {}\n",
    "if not os.path.exists(\"q3bfiles\"+os.sep + \"bii\"):\n",
    "    os.makedirs(\"q3bfiles\"+os.sep + \"bii\")\n",
    "with open(output_path, \"r\",encoding='utf-8') as out_fp:\n",
    "    for line in out_fp:\n",
    "        count += 1\n",
    "        splitter(dic,line.split(),4) # sending 4 as length for quadgram creation\n",
    "        if(count == 1000000):\n",
    "            break"
   ]
  },
  {
   "cell_type": "code",
   "execution_count": null,
   "metadata": {},
   "outputs": [],
   "source": [
    "with open(\"quadgramwords.txt\", \"w\",encoding='utf-8') as outfile:\n",
    "    outfile.write(\"\\n\".join(str(item[0]) for item in return_top_100(dic)))"
   ]
  },
  {
   "cell_type": "code",
   "execution_count": 21,
   "metadata": {
    "scrolled": true
   },
   "outputs": [
    {
     "data": {
      "text/plain": [
       "[[('का', 'कहना', 'है', 'कि'), 6927],\n",
       " [('किया', 'जा', 'रहा', 'है'), 3464],\n",
       " [('जा', 'रहा', 'है', 'कि'), 3122],\n",
       " [('ने', 'कहा', 'है', 'कि'), 2999],\n",
       " [('किया', 'जा', 'सकता', 'है'), 2728],\n",
       " [('की', 'जा', 'रही', 'है'), 2591],\n",
       " [('करते', 'हुए', 'कहा', 'कि'), 2224],\n",
       " [('की', 'मौत', 'हो', 'गई'), 1964],\n",
       " [('बताया', 'जा', 'रहा', 'है'), 1938],\n",
       " [('कहा', 'गया', 'है', 'कि'), 1843],\n",
       " [('कर', 'दिया', 'गया', 'है'), 1828],\n",
       " [('आपको', 'बता', 'दें', 'कि'), 1788],\n",
       " [('को', 'संबोधित', 'करते', 'हुए'), 1429],\n",
       " [('का', 'मानना', 'है', 'कि'), 1362],\n",
       " [('ने', 'कहा', 'था', 'कि'), 1263],\n",
       " [('में', 'कहा', 'गया', 'है'), 1247],\n",
       " [('माना', 'जा', 'रहा', 'है'), 1231],\n",
       " [('बात', 'यह', 'है', 'कि'), 1230],\n",
       " [('की', 'बात', 'करें', 'तो'), 1101],\n",
       " [('का', 'आयोजन', 'किया', 'गया'), 1054],\n",
       " [('शुरू', 'कर', 'दी', 'है'), 1036],\n",
       " [('की', 'मांग', 'की', 'है'), 1022],\n",
       " [('सिंह', 'ने', 'कहा', 'कि'), 977],\n",
       " [('में', 'से', 'एक', 'है'), 928],\n",
       " [('का', 'सामना', 'करना', 'पड़ा'), 927],\n",
       " [('प्रधानमंत्री', 'नरेंद्र', 'मोदी', 'ने'), 919],\n",
       " [('लोगों', 'की', 'मौत', 'हो'), 917],\n",
       " [('है', 'उन्होंने', 'कहा', 'कि'), 888],\n",
       " [('की', 'जा', 'सकती', 'है'), 847],\n",
       " [('एक', 'बार', 'फिर', 'से'), 821],\n",
       " [('जा', 'सकता', 'है', 'कि'), 818],\n",
       " [('यह', 'भी', 'कहा', 'कि'), 809],\n",
       " [('को', 'गिरफ्तार', 'कर', 'लिया'), 805],\n",
       " [('होने', 'की', 'वजह', 'से'), 794],\n",
       " [('उनका', 'कहना', 'है', 'कि'), 783],\n",
       " [('सिंह', 'ने', 'बताया', 'कि'), 782],\n",
       " [('में', 'भर्ती', 'कराया', 'गया'), 760],\n",
       " [('देते', 'हुए', 'कहा', 'कि'), 756],\n",
       " [('का', 'फैसला', 'किया', 'है'), 736],\n",
       " [('ने', 'कहा', 'कि', 'इस'), 728],\n",
       " [('दिया', 'जा', 'रहा', 'है'), 715],\n",
       " [('नहीं', 'किया', 'जा', 'सकता'), 710],\n",
       " [('ने', 'कहा', 'कि', 'वह'), 708],\n",
       " [('अस्पताल', 'में', 'भर्ती', 'कराया'), 704],\n",
       " [('का', 'सामना', 'करना', 'पड़'), 704],\n",
       " [('की', 'मांग', 'को', 'लेकर'), 695],\n",
       " [('कहा', 'जाता', 'है', 'कि'), 691],\n",
       " [('के', 'बारे', 'में', 'जानकारी'), 680],\n",
       " [('सरकार', 'की', 'ओर', 'से'), 680],\n",
       " [('मामला', 'सामने', 'आया', 'है'), 675],\n",
       " [('कहा', 'जा', 'रहा', 'है'), 672],\n",
       " [('कांग्रेस', 'अध्यक्ष', 'राहुल', 'गांधी'), 662],\n",
       " [('ने', 'हाल', 'ही', 'में'), 659],\n",
       " [('कर', 'दी', 'गई', 'है'), 655],\n",
       " [('का', 'आरोप', 'है', 'कि'), 654],\n",
       " [('मुझे', 'लगता', 'है', 'कि'), 654],\n",
       " [('का', 'कहना', 'था', 'कि'), 653],\n",
       " [('काम', 'कर', 'रहे', 'हैं'), 651],\n",
       " [('यही', 'वजह', 'है', 'कि'), 651],\n",
       " [('अधिकारी', 'ने', 'बताया', 'कि'), 644],\n",
       " [('यही', 'कारण', 'है', 'कि'), 642],\n",
       " [('ने', 'कहा', 'कि', 'यह'), 639],\n",
       " [('नजर', 'आ', 'रहे', 'हैं'), 634],\n",
       " [('है', 'और', 'न', 'ही'), 630],\n",
       " [('से', 'बचने', 'के', 'लिए'), 629],\n",
       " [('करना', 'पड़', 'रहा', 'है'), 622],\n",
       " [('शुरू', 'कर', 'दिया', 'है'), 617],\n",
       " [('पता', 'चलता', 'है', 'कि'), 617],\n",
       " [('ध्यान', 'में', 'रखते', 'हुए'), 610],\n",
       " [('कर', 'लिया', 'गया', 'है'), 606],\n",
       " [('मोदी', 'ने', 'कहा', 'कि'), 601],\n",
       " [('कर', 'रहे', 'हैं', 'और'), 581],\n",
       " [('ने', 'बताया', 'कि', 'इस'), 577],\n",
       " [('को', 'ध्यान', 'में', 'रखते'), 577],\n",
       " [('बताया', 'जाता', 'है', 'कि'), 575],\n",
       " [('से', 'निपटने', 'के', 'लिए'), 572],\n",
       " [('पूरा', 'करने', 'के', 'लिए'), 572],\n",
       " [('हो', 'सकता', 'है', 'कि'), 564],\n",
       " [('करने', 'की', 'मांग', 'की'), 562],\n",
       " [('का', 'दावा', 'है', 'कि'), 559],\n",
       " [('गंभीर', 'रूप', 'से', 'घायल'), 556],\n",
       " [('में', 'कहा', 'है', 'कि'), 550],\n",
       " [('कहा', 'जा', 'सकता', 'है'), 548],\n",
       " [('से', 'इनकार', 'कर', 'दिया'), 547],\n",
       " [('बताया', 'गया', 'है', 'कि'), 545],\n",
       " [('को', 'पूरा', 'करने', 'के'), 543],\n",
       " [('हुए', 'कहा', 'है', 'कि'), 541],\n",
       " [('करने', 'की', 'कोशिश', 'की'), 539],\n",
       " [('करने', 'के', 'लिए', 'एक'), 539],\n",
       " [('पता', 'चला', 'है', 'कि'), 536],\n",
       " [('साल', 'की', 'उम्र', 'में'), 534],\n",
       " [('नहीं', 'किया', 'गया', 'है'), 531],\n",
       " [('उन्होंने', 'कहा', 'कि', 'इस'), 525],\n",
       " [('की', 'घोषणा', 'की', 'है'), 524],\n",
       " [('ने', 'एक', 'बार', 'फिर'), 523],\n",
       " [('सूत्रों', 'ने', 'बताया', 'कि'), 520],\n",
       " [('देखा', 'जा', 'सकता', 'है'), 519],\n",
       " [('को', 'रोकने', 'के', 'लिए'), 516],\n",
       " [('रंग', 'का', 'होता', 'है'), 514],\n",
       " [('माना', 'जाता', 'है', 'कि'), 512]]"
      ]
     },
     "execution_count": 21,
     "metadata": {},
     "output_type": "execute_result"
    }
   ],
   "source": [
    "return_top_100(dic)"
   ]
  },
  {
   "cell_type": "markdown",
   "metadata": {},
   "source": [
    "### Syllables"
   ]
  },
  {
   "cell_type": "code",
   "execution_count": 39,
   "metadata": {},
   "outputs": [],
   "source": [
    "def iscomposite(word):\n",
    "    if word in composite_letters:\n",
    "        return True\n",
    "    else:\n",
    "        return False"
   ]
  },
  {
   "cell_type": "code",
   "execution_count": 74,
   "metadata": {},
   "outputs": [],
   "source": [
    "def syllable_splitter(dic,s,length):\n",
    "    seen = ''  # what we have seen \n",
    "    syllable_list = [] # splitted syllable list\n",
    "    i = 0\n",
    "    while(i<len(s)):\n",
    "        if isconsonant(s[i]):\n",
    "            if(len(seen) != 0):\n",
    "                syllable_list.append(seen)\n",
    "                seen = ''\n",
    "            if ((i+3-1<=len(s)-1) and (s[i+1] == '्')  and iscomposite(s[i]+s[i+1]+s[i+2])): # Handling composite letters as one syllable\n",
    "                seen = s[i]+s[i+1]+s[i+2]\n",
    "                i += 2\n",
    "            else:\n",
    "                seen = s[i]\n",
    "        elif isvowel(s[i]):\n",
    "            if(len(seen) != 0):\n",
    "                syllable_list.append(seen)\n",
    "            syllable_list.append(s[i])\n",
    "            seen = ''\n",
    "        else:\n",
    "            seen += s[i] # Add matraas here\n",
    "        #print(seen)\n",
    "        i += 1\n",
    "    if(len(seen) != 0):\n",
    "        syllable_list.append(seen)\n",
    "        seen = ''\n",
    "    #print(syllable_list)\n",
    "    for i in range(len(syllable_list)):\n",
    "        if(i+length-1<=len(syllable_list)-1):\n",
    "            temp_list = syllable_list[i:i+length]\n",
    "            update_dict(dic,\"\".join(temp_list))"
   ]
  },
  {
   "cell_type": "code",
   "execution_count": 76,
   "metadata": {},
   "outputs": [],
   "source": [
    "uni_sybl = {}\n",
    "for word in word_dict.keys():\n",
    "    uni_local_dict = {}\n",
    "    syllable_splitter(uni_local_dict,word,1)\n",
    "    local_to_global_update(uni_local_dict,uni_sybl,word_dict[word])\n",
    "    uni_local_dict.clear()"
   ]
  },
  {
   "cell_type": "code",
   "execution_count": null,
   "metadata": {},
   "outputs": [],
   "source": [
    "with open(\"unisybl.txt\", \"w\",encoding='utf-8') as outfile:\n",
    "    outfile.write(\"\\n\".join(str(item[0]) for item in return_top_100(uni_sybl)))"
   ]
  },
  {
   "cell_type": "code",
   "execution_count": 84,
   "metadata": {
    "scrolled": true
   },
   "outputs": [
    {
     "data": {
      "text/plain": [
       "[['र', 238898162],\n",
       " ['क', 127572490],\n",
       " ['स', 108725475],\n",
       " ['न', 107918806],\n",
       " ['प', 84755128],\n",
       " ['के', 83991366],\n",
       " ['त', 72121796],\n",
       " ['ल', 68962947],\n",
       " ['ने', 68460202],\n",
       " ['म', 67635913],\n",
       " ['का', 62235134],\n",
       " ['ए', 60044351],\n",
       " ['ह', 58770664],\n",
       " ['या', 58662535],\n",
       " ['य', 57647221],\n",
       " ['में', 54713064],\n",
       " ['अ', 53114120],\n",
       " ['ब', 51658658],\n",
       " ['की', 49725485],\n",
       " ['ग', 48600604],\n",
       " ['र्', 48275686],\n",
       " ['व', 47739922],\n",
       " ['है', 45615883],\n",
       " ['से', 44975169],\n",
       " ['ज', 44687224],\n",
       " ['आ', 43562914],\n",
       " ['कि', 41657975],\n",
       " ['को', 40156191],\n",
       " ['रा', 39213593],\n",
       " ['इ', 39026985],\n",
       " ['द', 38124573],\n",
       " ['ता', 37222643],\n",
       " ['ना', 35803866],\n",
       " ['स्', 35151229],\n",
       " ['उ', 33566030],\n",
       " ['वा', 32524736],\n",
       " ['ट', 31045933],\n",
       " ['प्', 29698338],\n",
       " ['मा', 28238636],\n",
       " ['ला', 28000392],\n",
       " ['री', 26942931],\n",
       " ['ले', 26637907],\n",
       " ['सा', 25973530],\n",
       " ['ई', 25696020],\n",
       " ['श', 25635333],\n",
       " ['जा', 25603399],\n",
       " ['औ', 24755907],\n",
       " ['लि', 23042993],\n",
       " ['हा', 23031449],\n",
       " ['बा', 22355641],\n",
       " ['क्', 21690477],\n",
       " ['वि', 21568449],\n",
       " ['हो', 19483727],\n",
       " ['च', 19265293],\n",
       " ['भी', 18592036],\n",
       " ['रि', 18504882],\n",
       " ['रे', 17757400],\n",
       " ['दि', 17662852],\n",
       " ['न्', 17553996],\n",
       " ['ं', 17520745],\n",
       " ['दे', 17416291],\n",
       " ['नि', 17317108],\n",
       " ['हैं', 16993711],\n",
       " ['ते', 16945054],\n",
       " ['ही', 16842506],\n",
       " ['पा', 16758628],\n",
       " ['नी', 16449302],\n",
       " ['ति', 15294754],\n",
       " ['ती', 15096222],\n",
       " ['भा', 14738641],\n",
       " ['सी', 14639989],\n",
       " ['ली', 13935299],\n",
       " ['गा', 13296635],\n",
       " ['ड', 13265191],\n",
       " ['था', 12970795],\n",
       " ['ख', 12739983],\n",
       " ['चा', 12537108],\n",
       " ['दा', 12244977],\n",
       " ['मि', 12215398],\n",
       " ['सं', 12163910],\n",
       " ['ण', 12100737],\n",
       " ['ल्', 12040343],\n",
       " ['हीं', 11891858],\n",
       " ['हु', 11575616],\n",
       " ['थ', 11255425],\n",
       " ['रो', 11247520],\n",
       " ['जि', 10527003],\n",
       " ['मु', 10073232],\n",
       " ['दी', 10011100],\n",
       " ['ध', 9737515],\n",
       " ['यों', 9672860],\n",
       " ['फ', 9010330],\n",
       " ['टी', 8940292],\n",
       " ['त्', 8641720],\n",
       " ['ट्', 8430696],\n",
       " ['जी', 8340759],\n",
       " ['लो', 8148823],\n",
       " ['हि', 8121494],\n",
       " ['शा', 8077740],\n",
       " ['ये', 8001136]]"
      ]
     },
     "execution_count": 84,
     "metadata": {},
     "output_type": "execute_result"
    }
   ],
   "source": [
    "return_top_100(uni_sybl)"
   ]
  },
  {
   "cell_type": "code",
   "execution_count": 78,
   "metadata": {},
   "outputs": [],
   "source": [
    "bi_sybl = {}\n",
    "for word in word_dict.keys():\n",
    "    bi_local_dict = {}\n",
    "    syllable_splitter(bi_local_dict,word,2)\n",
    "    local_to_global_update(bi_local_dict,bi_sybl,word_dict[word])\n",
    "    bi_local_dict.clear()    "
   ]
  },
  {
   "cell_type": "code",
   "execution_count": null,
   "metadata": {},
   "outputs": [],
   "source": [
    "with open(\"bisybl.txt\", \"w\",encoding='utf-8') as outfile:\n",
    "    outfile.write(\"\\n\".join(str(item[0]) for item in return_top_100(bi_sybl)))"
   ]
  },
  {
   "cell_type": "code",
   "execution_count": 85,
   "metadata": {
    "scrolled": true
   },
   "outputs": [
    {
     "data": {
      "text/plain": [
       "[['कर', 34083333],\n",
       " ['और', 24233433],\n",
       " ['पर', 20933484],\n",
       " ['प्र', 18325466],\n",
       " ['इस', 17403788],\n",
       " ['एक', 11376310],\n",
       " ['लिए', 11368549],\n",
       " ['नहीं', 10000851],\n",
       " ['अप', 9525601],\n",
       " ['कार', 8483563],\n",
       " ['किया', 7724437],\n",
       " ['रने', 7205590],\n",
       " ['कहा', 6762565],\n",
       " ['यह', 6615022],\n",
       " ['सर', 6463510],\n",
       " ['गया', 6398688],\n",
       " ['आप', 6113887],\n",
       " ['उन', 6030523],\n",
       " ['तर', 5961798],\n",
       " ['देश', 5928833],\n",
       " ['बाद', 5862124],\n",
       " ['उन्', 5844117],\n",
       " ['साथ', 5807242],\n",
       " ['उस', 5774145],\n",
       " ['सम', 5437837],\n",
       " ['रह', 5435141],\n",
       " ['रका', 5334791],\n",
       " ['सके', 5291540],\n",
       " ['तक', 5188961],\n",
       " ['पह', 5159720],\n",
       " ['पने', 4888440],\n",
       " ['रहे', 4875971],\n",
       " ['सक', 4838122],\n",
       " ['भार', 4681027],\n",
       " ['दिया', 4495905],\n",
       " ['वार', 4482194],\n",
       " ['रत', 4477594],\n",
       " ['कार्', 4272783],\n",
       " ['वर्', 4268354],\n",
       " ['रण', 4266492],\n",
       " ['जन', 4186621],\n",
       " ['ओं', 4164597],\n",
       " ['रहा', 4163876],\n",
       " ['शन', 4135054],\n",
       " ['हर', 4083285],\n",
       " ['हुए', 4070002],\n",
       " ['इन', 4040554],\n",
       " ['मान', 3994732],\n",
       " ['टर', 3925471],\n",
       " ['इं', 3807738],\n",
       " ['पनी', 3800856],\n",
       " ['न्हों', 3789737],\n",
       " ['रही', 3776512],\n",
       " ['होंने', 3775539],\n",
       " ['बता', 3661468],\n",
       " ['बना', 3648315],\n",
       " ['किन', 3648203],\n",
       " ['हम', 3618770],\n",
       " ['गई', 3573598],\n",
       " ['अं', 3567004],\n",
       " ['राज', 3545249],\n",
       " ['बर', 3503212],\n",
       " ['लेकि', 3499689],\n",
       " ['अधि', 3479490],\n",
       " ['जिस', 3469112],\n",
       " ['र्य', 3454773],\n",
       " ['स्था', 3433896],\n",
       " ['वह', 3412805],\n",
       " ['गर', 3401939],\n",
       " ['मिल', 3345281],\n",
       " ['लगा', 3330863],\n",
       " ['जब', 3325879],\n",
       " ['एं', 3228681],\n",
       " ['परि', 3206992],\n",
       " ['मंत्री', 3183429],\n",
       " ['कुछ', 3156605],\n",
       " ['आई', 3154241],\n",
       " ['द्र', 3132423],\n",
       " ['हले', 3026858],\n",
       " ['जाए', 2997537],\n",
       " ['रति', 2958092],\n",
       " ['होने', 2957230],\n",
       " ['कारी', 2943241],\n",
       " ['दर्', 2937986],\n",
       " ['र्ट', 2893206],\n",
       " ['वाले', 2877890],\n",
       " ['लग', 2871309],\n",
       " ['रते', 2845930],\n",
       " ['यर', 2835552],\n",
       " ['एस', 2816935],\n",
       " ['अब', 2779420],\n",
       " ['लोगों', 2761775],\n",
       " ['लिस', 2761288],\n",
       " ['स्त', 2761040],\n",
       " ['बात', 2753391],\n",
       " ['रती', 2749049],\n",
       " ['कर्', 2736074],\n",
       " ['कता', 2724562],\n",
       " ['कोई', 2723387],\n",
       " ['अनु', 2718954]]"
      ]
     },
     "execution_count": 85,
     "metadata": {},
     "output_type": "execute_result"
    }
   ],
   "source": [
    "return_top_100(bi_sybl)"
   ]
  },
  {
   "cell_type": "code",
   "execution_count": 80,
   "metadata": {},
   "outputs": [],
   "source": [
    "tri_sybl = {}\n",
    "for word in word_dict.keys():\n",
    "    tri_local_dict = {}\n",
    "    syllable_splitter(tri_local_dict,word,3)\n",
    "    local_to_global_update(tri_local_dict,tri_sybl,word_dict[word])\n",
    "    tri_local_dict.clear()"
   ]
  },
  {
   "cell_type": "code",
   "execution_count": null,
   "metadata": {},
   "outputs": [],
   "source": [
    "with open(\"trisybl.txt\", \"w\",encoding='utf-8') as outfile:\n",
    "    outfile.write(\"\\n\".join(str(item[0]) for item in return_top_100(tri_sybl)))"
   ]
  },
  {
   "cell_type": "code",
   "execution_count": 86,
   "metadata": {
    "scrolled": true
   },
   "outputs": [
    {
     "data": {
      "text/plain": [
       "[['करने', 6265436],\n",
       " ['अपने', 4516079],\n",
       " ['रकार', 3996108],\n",
       " ['सरका', 3994388],\n",
       " ['न्होंने', 3772216],\n",
       " ['उन्हों', 3564719],\n",
       " ['लेकिन', 3495337],\n",
       " ['पहले', 3015060],\n",
       " ['प्रति', 2933255],\n",
       " ['भारत', 2777919],\n",
       " ['अपनी', 2669792],\n",
       " ['करते', 2667852],\n",
       " ['पुलिस', 2654086],\n",
       " ['इसके', 2589239],\n",
       " ['कार्य', 2477937],\n",
       " ['तरह', 2245258],\n",
       " ['समय', 2183871],\n",
       " ['लेकर', 2167244],\n",
       " ['बताया', 2150747],\n",
       " ['राष्ट्', 2142149],\n",
       " ['उनके', 2089578],\n",
       " ['उन्हें', 1906936],\n",
       " ['प्रदे', 1897876],\n",
       " ['रदेश', 1819481],\n",
       " ['करना', 1799668],\n",
       " ['मुख्य', 1764073],\n",
       " ['सकता', 1744620],\n",
       " ['ग्रेस', 1720785],\n",
       " ['कांग्रे', 1707028],\n",
       " ['बहुत', 1694567],\n",
       " ['अधिका', 1677727],\n",
       " ['भारती', 1637886],\n",
       " ['राज्य', 1633841],\n",
       " ['सकते', 1630510],\n",
       " ['महिला', 1601660],\n",
       " ['दिल्ली', 1570625],\n",
       " ['फिल्म', 1554500],\n",
       " ['सबसे', 1547552],\n",
       " ['दौरान', 1535556],\n",
       " ['रतीय', 1472649],\n",
       " ['उसके', 1468657],\n",
       " ['उनकी', 1431122],\n",
       " ['पार्टी', 1427377],\n",
       " ['चुनाव', 1426123],\n",
       " ['ज्यादा', 1423044],\n",
       " ['चाहिए', 1418545],\n",
       " ['कारण', 1392075],\n",
       " ['अगर', 1372610],\n",
       " ['ध्यक्ष', 1362894],\n",
       " ['मामले', 1349403],\n",
       " ['आपको', 1317220],\n",
       " ['अधिक', 1308142],\n",
       " ['अपना', 1289746],\n",
       " ['ताओं', 1280488],\n",
       " ['पूर्व', 1269081],\n",
       " ['अन्य', 1240700],\n",
       " ['कुमार', 1238374],\n",
       " ['खिलाफ', 1238028],\n",
       " ['अध्य', 1235934],\n",
       " ['प्रधा', 1225689],\n",
       " ['योजना', 1224623],\n",
       " ['दर्श', 1206470],\n",
       " ['रुपये', 1201109],\n",
       " ['भाजपा', 1197688],\n",
       " ['रधान', 1177201],\n",
       " ['प्रका', 1164785],\n",
       " ['करोड़', 1163553],\n",
       " ['जानका', 1162113],\n",
       " ['इससे', 1146140],\n",
       " ['स्तान', 1138524],\n",
       " ['क्रम', 1119680],\n",
       " ['ष्ट्र', 1109313],\n",
       " ['वर्ष', 1100448],\n",
       " ['नकारी', 1092887],\n",
       " ['शामिल', 1088144],\n",
       " ['जाएगा', 1085481],\n",
       " ['स्थान', 1080322],\n",
       " ['व्यक्', 1079366],\n",
       " ['यमंत्री', 1068558],\n",
       " ['नुसार', 1061956],\n",
       " ['करता', 1057070],\n",
       " ['ख्यमं', 1048567],\n",
       " ['कंपनी', 1017904],\n",
       " ['किस्ता', 1012756],\n",
       " ['ट्रीय', 997322],\n",
       " ['पाकिस्', 996772],\n",
       " ['ष्ट्री', 994740],\n",
       " ['घटना', 991070],\n",
       " ['नगर', 983309],\n",
       " ['अलग', 978280],\n",
       " ['पिछले', 975956],\n",
       " ['सामने', 973052],\n",
       " ['अंत', 971239],\n",
       " ['व्यव', 970537],\n",
       " ['धिकारी', 965868],\n",
       " ['अनुसा', 952411],\n",
       " ['पोर्ट', 949316],\n",
       " ['विकास', 947959],\n",
       " ['प्रभा', 945731],\n",
       " ['सकती', 937799]]"
      ]
     },
     "execution_count": 86,
     "metadata": {},
     "output_type": "execute_result"
    }
   ],
   "source": [
    "return_top_100(tri_sybl)"
   ]
  },
  {
   "cell_type": "code",
   "execution_count": 82,
   "metadata": {},
   "outputs": [],
   "source": [
    "quad_sybl = {}\n",
    "for word in word_dict.keys(): \n",
    "    quad_local_dict = {}\n",
    "    syllable_splitter(quad_local_dict,word,4)\n",
    "    local_to_global_update(quad_local_dict,quad_sybl,word_dict[word])\n",
    "    quad_local_dict.clear()"
   ]
  },
  {
   "cell_type": "code",
   "execution_count": null,
   "metadata": {},
   "outputs": [],
   "source": [
    "with open(\"quadsybl.txt\", \"w\",encoding='utf-8') as outfile:\n",
    "    outfile.write(\"\\n\".join(str(item[0]) for item in return_top_100(quad_sybl)))"
   ]
  },
  {
   "cell_type": "code",
   "execution_count": 87,
   "metadata": {
    "scrolled": true
   },
   "outputs": [
    {
     "data": {
      "text/plain": [
       "[['उन्होंने', 3553220],\n",
       " ['सरकार', 3332662],\n",
       " ['प्रदेश', 1816918],\n",
       " ['कांग्रेस', 1637540],\n",
       " ['भारतीय', 1471205],\n",
       " ['प्रधान', 1176139],\n",
       " ['राष्ट्र', 1107978],\n",
       " ['जानकारी', 1058171],\n",
       " ['अध्यक्ष', 1048703],\n",
       " ['मुख्यमं', 1047681],\n",
       " ['ख्यमंत्री', 1021622],\n",
       " ['पाकिस्ता', 995939],\n",
       " ['राष्ट्री', 993567],\n",
       " ['ष्ट्रीय', 992808],\n",
       " ['अनुसार', 951281],\n",
       " ['व्यक्ति', 905781],\n",
       " ['किस्तान', 855827],\n",
       " ['रधानमं', 847956],\n",
       " ['दर्शन', 847626],\n",
       " ['धानमंत्री', 842729],\n",
       " ['इसलिए', 822461],\n",
       " ['उम्मीद', 767821],\n",
       " ['राजनीति', 767312],\n",
       " ['परिवार', 756690],\n",
       " ['अधिकारी', 755325],\n",
       " ['प्रदर्', 739870],\n",
       " ['कार्यक्', 739745],\n",
       " ['र्यक्र', 739456],\n",
       " ['मुताबिक', 710601],\n",
       " ['यक्रम', 704056],\n",
       " ['रदर्श', 697088],\n",
       " ['व्यवस्', 673352],\n",
       " ['यवस्था', 646164],\n",
       " ['कर्मचा', 635502],\n",
       " ['समस्या', 632517],\n",
       " ['रिपोर्ट', 618265],\n",
       " ['धिकारियों', 614040],\n",
       " ['निर्माण', 613177],\n",
       " ['प्राप्त', 612506],\n",
       " ['प्रतिश', 598668],\n",
       " ['रतिशत', 597479],\n",
       " ['इंडिया', 592243],\n",
       " ['विधानस', 587441],\n",
       " ['प्रकार', 584666],\n",
       " ['इस्तेमा', 582584],\n",
       " ['स्तेमाल', 582276],\n",
       " ['धानसभा', 581138],\n",
       " ['प्रमुख', 578453],\n",
       " ['अस्पता', 563444],\n",
       " ['अधिकारि', 560403],\n",
       " ['सरकारी', 535634],\n",
       " ['समर्थ', 534884],\n",
       " ['प्रशास', 533387],\n",
       " ['क्रिकेट', 530269],\n",
       " ['गिरफ्ता', 529815],\n",
       " ['उपलब्', 517470],\n",
       " ['स्पताल', 514057],\n",
       " ['लगभग', 513673],\n",
       " ['रफ्तार', 505682],\n",
       " ['लगातार', 487344],\n",
       " ['महिलाओ', 484657],\n",
       " ['हिलाओं', 476525],\n",
       " ['विभिन्न', 474547],\n",
       " ['कार्रवा', 471037],\n",
       " ['र्रवाई', 465419],\n",
       " ['विधायक', 463967],\n",
       " ['कश्मीर', 461711],\n",
       " ['महत्व', 461343],\n",
       " ['निर्देश', 456291],\n",
       " ['अमेरिका', 454116],\n",
       " ['स्वास्थ्', 449613],\n",
       " ['वास्थ्य', 449166],\n",
       " ['हरियाणा', 447804],\n",
       " ['ष्ट्रप', 446952],\n",
       " ['ट्रपति', 445380],\n",
       " ['इंटर', 441180],\n",
       " ['आयोजित', 437186],\n",
       " ['विद्यालय', 432991],\n",
       " ['पलब्ध', 430205],\n",
       " ['जरूरत', 423796],\n",
       " ['शिकायत', 423154],\n",
       " ['सोमवार', 423058],\n",
       " ['वश्यक', 420534],\n",
       " ['कार्यक', 413978],\n",
       " ['लोकसभा', 411119],\n",
       " ['नेताओं', 409676],\n",
       " ['म्मीदवा', 408809],\n",
       " ['उत्पाद', 408559],\n",
       " ['रशासन', 408113],\n",
       " ['शुक्रवा', 407605],\n",
       " ['अवसर', 405899],\n",
       " ['प्रयास', 401414],\n",
       " ['आवश्य', 401056],\n",
       " ['र्यकर्', 400210],\n",
       " ['प्रकाश', 399678],\n",
       " ['क्रवार', 398777],\n",
       " ['नरेंद्र', 397561],\n",
       " ['सदस्य', 396570],\n",
       " ['उपयोग', 393138],\n",
       " ['मंगलवा', 390981]]"
      ]
     },
     "execution_count": 87,
     "metadata": {},
     "output_type": "execute_result"
    }
   ],
   "source": [
    "return_top_100(quad_sybl)"
   ]
  },
  {
   "cell_type": "markdown",
   "metadata": {},
   "source": [
    "### Zipfian Distribution"
   ]
  },
  {
   "cell_type": "code",
   "execution_count": 31,
   "metadata": {},
   "outputs": [],
   "source": [
    "def zipfian(term_freq_df,l,name):\n",
    "    #l = len(term_freq_df)\n",
    "    y_pos = np.arange(l)\n",
    "    plt.figure(figsize=(10,8))\n",
    "    s = 1.001\n",
    "    expected_zipf = [max(term_freq_df)/(i+1)**s for i in y_pos]\n",
    "    term_freq_df[::-1].sort()\n",
    "    plt.bar(y_pos,term_freq_df[:l] , align='center', alpha=0.5)\n",
    "    plt.plot(y_pos, expected_zipf, color='r', linestyle='--',linewidth=2,alpha=0.5)\n",
    "    plt.ylabel('Frequency')\n",
    "    plt.savefig(name+\".jpg\")"
   ]
  },
  {
   "cell_type": "code",
   "execution_count": 32,
   "metadata": {},
   "outputs": [
    {
     "data": {
      "image/png": "[encoded data removed]",
      "text/plain": [
       "<Figure size 720x576 with 1 Axes>"
      ]
     },
     "metadata": {
      "needs_background": "light"
     },
     "output_type": "display_data"
    }
   ],
   "source": [
    "zipfian(np.array(list(uni_char.values())),104,'uni_char_zip')"
   ]
  },
  {
   "cell_type": "code",
   "execution_count": 34,
   "metadata": {},
   "outputs": [
    {
     "data": {
      "image/png": "[encoded data removed]",
      "text/plain": [
       "<Figure size 720x576 with 1 Axes>"
      ]
     },
     "metadata": {
      "needs_background": "light"
     },
     "output_type": "display_data"
    }
   ],
   "source": [
    "zipfian(np.array(list(word_dict.values())),2000,'uniword_zip')"
   ]
  },
  {
   "cell_type": "code",
   "execution_count": 36,
   "metadata": {},
   "outputs": [
    {
     "ename": "NameError",
     "evalue": "name 'uni_sybl' is not defined",
     "output_type": "error",
     "traceback": [
      "\u001b[1;31m---------------------------------------------------------------------------\u001b[0m",
      "\u001b[1;31mNameError\u001b[0m                                 Traceback (most recent call last)",
      "\u001b[1;32m~\\AppData\\Local\\Temp/ipykernel_19016/2171311202.py\u001b[0m in \u001b[0;36m<module>\u001b[1;34m\u001b[0m\n\u001b[1;32m----> 1\u001b[1;33m \u001b[0mzipfian\u001b[0m\u001b[1;33m(\u001b[0m\u001b[0mnp\u001b[0m\u001b[1;33m.\u001b[0m\u001b[0marray\u001b[0m\u001b[1;33m(\u001b[0m\u001b[0mlist\u001b[0m\u001b[1;33m(\u001b[0m\u001b[0muni_sybl\u001b[0m\u001b[1;33m.\u001b[0m\u001b[0mvalues\u001b[0m\u001b[1;33m(\u001b[0m\u001b[1;33m)\u001b[0m\u001b[1;33m)\u001b[0m\u001b[1;33m)\u001b[0m\u001b[1;33m,\u001b[0m\u001b[1;36m100\u001b[0m\u001b[1;33m,\u001b[0m\u001b[1;34m'uni_sybl_zip'\u001b[0m\u001b[1;33m)\u001b[0m\u001b[1;33m\u001b[0m\u001b[1;33m\u001b[0m\u001b[0m\n\u001b[0m",
      "\u001b[1;31mNameError\u001b[0m: name 'uni_sybl' is not defined"
     ]
    }
   ],
   "source": [
    "zipfian(np.array(list(uni_sybl.values())),1000,'uni_sybl_zip')"
   ]
  },
  {
   "cell_type": "code",
   "execution_count": null,
   "metadata": {},
   "outputs": [],
   "source": []
  }
 ],
 "metadata": {
  "kernelspec": {
   "display_name": "Python 3",
   "language": "python",
   "name": "python3"
  },
  "language_info": {
   "codemirror_mode": {
    "name": "ipython",
    "version": 3
   },
   "file_extension": ".py",
   "mimetype": "text/x-python",
   "name": "python",
   "nbconvert_exporter": "python",
   "pygments_lexer": "ipython3",
   "version": "3.8.10"
  }
 },
 "nbformat": 4,
 "nbformat_minor": 5
}
